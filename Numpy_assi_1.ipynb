{
 "cells": [
  {
   "cell_type": "markdown",
   "id": "aa76f856",
   "metadata": {},
   "source": [
    "# 1. Create a null vector of size 10 but the fifth value which is 1"
   ]
  },
  {
   "cell_type": "code",
   "execution_count": 7,
   "id": "43e87d96",
   "metadata": {},
   "outputs": [
    {
     "name": "stdout",
     "output_type": "stream",
     "text": [
      "[0. 0. 0. 0. 1. 0. 0. 0. 0. 0.]\n"
     ]
    }
   ],
   "source": [
    "import numpy as np\n",
    "\n",
    "null_vector = np.zeros(10)\n",
    "\n",
    "null_vector[4] = 1\n",
    "\n",
    "print(null_vector)\n"
   ]
  },
  {
   "cell_type": "markdown",
   "id": "7439ae6c",
   "metadata": {},
   "source": [
    "# 2. Create a vector with values ranging from 10 to 49"
   ]
  },
  {
   "cell_type": "code",
   "execution_count": 8,
   "id": "4f504023",
   "metadata": {},
   "outputs": [
    {
     "name": "stdout",
     "output_type": "stream",
     "text": [
      "[10 11 12 13 14 15 16 17 18 19 20 21 22 23 24 25 26 27 28 29 30 31 32 33\n",
      " 34 35 36 37 38 39 40 41 42 43 44 45 46 47 48 49]\n"
     ]
    }
   ],
   "source": [
    "import numpy as np\n",
    "\n",
    "vector = np.arange(10, 50)\n",
    "\n",
    "print(vector)\n"
   ]
  },
  {
   "cell_type": "markdown",
   "id": "1e361ef1",
   "metadata": {},
   "source": [
    "# 3. Create a 3x3 matrix with values ranging from 0 to 8"
   ]
  },
  {
   "cell_type": "code",
   "execution_count": 9,
   "id": "726a97ff",
   "metadata": {},
   "outputs": [
    {
     "name": "stdout",
     "output_type": "stream",
     "text": [
      "[[0 1 2]\n",
      " [3 4 5]\n",
      " [6 7 8]]\n"
     ]
    }
   ],
   "source": [
    "import numpy as np\n",
    "matrix = np.arange(9).reshape(3, 3)\n",
    "print(matrix)\n"
   ]
  },
  {
   "cell_type": "markdown",
   "id": "e53f8c57",
   "metadata": {},
   "source": [
    "# 4. Find indices of non-zero elements from [1,2,0,0,4,0]"
   ]
  },
  {
   "cell_type": "code",
   "execution_count": 10,
   "id": "71929b28",
   "metadata": {},
   "outputs": [
    {
     "name": "stdout",
     "output_type": "stream",
     "text": [
      "(array([0, 1, 4], dtype=int64),)\n"
     ]
    }
   ],
   "source": [
    "import numpy as np\n",
    "arr = np.array([1, 2, 0, 0, 4, 0])\n",
    "non_zero_indices = np.nonzero(arr)\n",
    "print(non_zero_indices)\n"
   ]
  },
  {
   "cell_type": "markdown",
   "id": "6b5ddbde",
   "metadata": {},
   "source": [
    "# 5. Create a 10x10 array with random values and find the minimum and maximum values"
   ]
  },
  {
   "cell_type": "code",
   "execution_count": 11,
   "id": "4cf726e9",
   "metadata": {},
   "outputs": [
    {
     "name": "stdout",
     "output_type": "stream",
     "text": [
      "[[0.58573728 0.5662594  0.56256799 0.9974574  0.86136941 0.93454398\n",
      "  0.13796654 0.24523874 0.03401611 0.72585025]\n",
      " [0.20522451 0.40716265 0.04258162 0.38053212 0.89338383 0.03977737\n",
      "  0.7791857  0.45855821 0.08341322 0.67858886]\n",
      " [0.85523688 0.0214864  0.84090012 0.3060876  0.55810141 0.82741398\n",
      "  0.37330288 0.46870882 0.88448128 0.14181469]\n",
      " [0.6837951  0.26118652 0.08859925 0.37732495 0.16707869 0.24653013\n",
      "  0.06215386 0.81647308 0.46201469 0.90495243]\n",
      " [0.59432863 0.57554519 0.26415956 0.79234412 0.70294498 0.39021729\n",
      "  0.50667537 0.01926167 0.39332983 0.60899871]\n",
      " [0.56775025 0.94439334 0.5627787  0.48474425 0.33922273 0.73218952\n",
      "  0.41113827 0.29113621 0.11019433 0.8064163 ]\n",
      " [0.83064802 0.78983138 0.61564625 0.24381584 0.76912789 0.35467889\n",
      "  0.51402068 0.66118549 0.30323153 0.54342139]\n",
      " [0.35155133 0.13734707 0.82855063 0.51709024 0.68003828 0.04618097\n",
      "  0.9882645  0.4704714  0.01341238 0.62885605]\n",
      " [0.23608474 0.27504817 0.94817635 0.88310926 0.07008969 0.62070534\n",
      "  0.33389715 0.03401752 0.89862463 0.85955058]\n",
      " [0.56284358 0.4131557  0.98410397 0.94264172 0.75376986 0.21187338\n",
      "  0.77506487 0.69543272 0.9279858  0.04831394]]\n",
      "Minimum Value: 0.013412384295396484\n",
      "Maximum Value: 0.9974574038126646\n"
     ]
    }
   ],
   "source": [
    "import numpy as np\n",
    "random_array = np.random.rand(10, 10)\n",
    "minimum_value = random_array.min()\n",
    "maximum_value = random_array.max()\n",
    "print(random_array)\n",
    "print(f\"Minimum Value: {minimum_value}\")\n",
    "print(f\"Maximum Value: {maximum_value}\")\n"
   ]
  },
  {
   "cell_type": "markdown",
   "id": "90953aab",
   "metadata": {},
   "source": [
    "# 6.Create a random vector of size 30 and find the mean value."
   ]
  },
  {
   "cell_type": "code",
   "execution_count": 12,
   "id": "df70afb7",
   "metadata": {},
   "outputs": [
    {
     "name": "stdout",
     "output_type": "stream",
     "text": [
      "[0.7821163  0.57631443 0.50922105 0.6693967  0.61848724 0.59218252\n",
      " 0.54362337 0.93691433 0.21095327 0.48458873 0.20796008 0.47355915\n",
      " 0.21731556 0.54697797 0.22512623 0.48590666 0.0856131  0.89719415\n",
      " 0.28305395 0.64197722 0.03689687 0.57901102 0.56438638 0.51846405\n",
      " 0.202131   0.3948687  0.75370593 0.58256544 0.80545229 0.09970236]\n",
      "Mean Value: 0.48418886768124986\n"
     ]
    }
   ],
   "source": [
    "import numpy as np\n",
    "random_vector = np.random.rand(30)\n",
    "mean_value = random_vector.mean()\n",
    "print(random_vector)\n",
    "print(f\"Mean Value: {mean_value}\")\n"
   ]
  }
 ],
 "metadata": {
  "kernelspec": {
   "display_name": "Python 3 (ipykernel)",
   "language": "python",
   "name": "python3"
  },
  "language_info": {
   "codemirror_mode": {
    "name": "ipython",
    "version": 3
   },
   "file_extension": ".py",
   "mimetype": "text/x-python",
   "name": "python",
   "nbconvert_exporter": "python",
   "pygments_lexer": "ipython3",
   "version": "3.10.9"
  }
 },
 "nbformat": 4,
 "nbformat_minor": 5
}
